{
 "cells": [
  {
   "cell_type": "code",
   "execution_count": 46,
   "metadata": {},
   "outputs": [
    {
     "name": "stdout",
     "output_type": "stream",
     "text": [
      "2 4\n"
     ]
    }
   ],
   "source": [
    "ss = [[1, 2, 3, 4], [5, 6, 7, 8]]\n",
    "rows = len(ss)\n",
    "columns = len(ss[0])\n",
    "print(rows, columns)"
   ]
  },
  {
   "cell_type": "code",
   "execution_count": 48,
   "metadata": {},
   "outputs": [
    {
     "name": "stdout",
     "output_type": "stream",
     "text": [
      "[[1, 5], [1, 6], [1, 7], [1, 8], [2, 5], [2, 6], [2, 7], [2, 8], [3, 5], [3, 6], [3, 7], [3, 8], [4, 5], [4, 6], [4, 7], [4, 8]]\n"
     ]
    }
   ],
   "source": [
    "items = []\n",
    "for i in range(columns**rows):\n",
    "    items.append([])\n",
    "\n",
    "for row in range(rows):\n",
    "    repeat = columns ** (rows-row-1)\n",
    "    # print(\"repeat\", repeat)\n",
    "    for column in range(columns):\n",
    "        item = ss[row][column]\n",
    "        # print(\"item\", item)\n",
    "        start = column * repeat\n",
    "        for times in range(columns**row):\n",
    "            # print(\"start\", start)\n",
    "            for l in range(repeat):\n",
    "                items[start+l].append(item)\n",
    "                # print(start+l)\n",
    "            start += columns * repeat\n",
    "print(items)"
   ]
  }
 ],
 "metadata": {
  "interpreter": {
   "hash": "d596008054a108bc308a6f6b3d6ca0761e9e1d5be4ed550c9012a484789e25d6"
  },
  "kernelspec": {
   "display_name": "Python 3.8.10 64-bit ('venv': venv)",
   "language": "python",
   "name": "python3"
  },
  "language_info": {
   "codemirror_mode": {
    "name": "ipython",
    "version": 3
   },
   "file_extension": ".py",
   "mimetype": "text/x-python",
   "name": "python",
   "nbconvert_exporter": "python",
   "pygments_lexer": "ipython3",
   "version": "3.8.10"
  },
  "orig_nbformat": 4
 },
 "nbformat": 4,
 "nbformat_minor": 2
}
