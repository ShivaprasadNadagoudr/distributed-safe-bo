{
 "cells": [
  {
   "cell_type": "code",
   "execution_count": null,
   "metadata": {},
   "outputs": [],
   "source": [
    "import pandas as pd\n",
    "import glob\n",
    "import os"
   ]
  },
  {
   "cell_type": "code",
   "execution_count": null,
   "metadata": {},
   "outputs": [],
   "source": [
    "files = glob.glob(\"./gp_sample_function/dbo/*.csv\")"
   ]
  },
  {
   "cell_type": "code",
   "execution_count": null,
   "metadata": {},
   "outputs": [],
   "source": [
    "unwanted_files = []\n",
    "for file in files:\n",
    "    csv = pd.read_csv(file)\n",
    "    if csv.shape[0] < 100:\n",
    "        unwanted_files.append(file)"
   ]
  },
  {
   "cell_type": "code",
   "execution_count": null,
   "metadata": {},
   "outputs": [],
   "source": [
    "len(unwanted_files)"
   ]
  },
  {
   "cell_type": "code",
   "execution_count": null,
   "metadata": {},
   "outputs": [],
   "source": [
    "all_unwanted_files = []\n",
    "for unwanted_file in unwanted_files:\n",
    "    all_unwanted_files.append(unwanted_file)"
   ]
  },
  {
   "cell_type": "code",
   "execution_count": null,
   "metadata": {},
   "outputs": [],
   "source": [
    "for file in unwanted_files:\n",
    "    print(file)\n",
    "    if os.path.isfile(file):\n",
    "        os.remove(file)"
   ]
  }
 ],
 "metadata": {
  "interpreter": {
   "hash": "de0e622c7685d12815e050455f3eb99049f968119fec9e8a37519701f43ea48d"
  },
  "kernelspec": {
   "display_name": "Python 3.7.11 ('ray-test')",
   "language": "python",
   "name": "python3"
  },
  "language_info": {
   "codemirror_mode": {
    "name": "ipython",
    "version": 3
   },
   "file_extension": ".py",
   "mimetype": "text/x-python",
   "name": "python",
   "nbconvert_exporter": "python",
   "pygments_lexer": "ipython3",
   "version": "3.7.11"
  },
  "orig_nbformat": 4
 },
 "nbformat": 4,
 "nbformat_minor": 2
}
