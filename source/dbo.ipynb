{
 "cells": [
  {
   "cell_type": "code",
   "execution_count": 1,
   "metadata": {},
   "outputs": [
    {
     "name": "stdout",
     "output_type": "stream",
     "text": [
      "warning in stationary: failed to import cython module: falling back to numpy\n",
      "warning in coregionalize: failed to import cython module: falling back to numpy\n",
      "warning in choleskies: failed to import cython module: falling back to numpy\n"
     ]
    }
   ],
   "source": [
    "import GPy\n",
    "import numpy as np\n",
    "import matplotlib as mpl\n",
    "import matplotlib.pyplot as plt\n",
    "import safeopt\n",
    "from typing import List, Tuple\n",
    "\n",
    "import hyperspaces as hs\n",
    "from objective_functions import bird_function, BIRD_FUNCTION_BOUNDS, BIRD_FUNCTION_THRESHOLD\n"
   ]
  },
  {
   "cell_type": "code",
   "execution_count": 2,
   "metadata": {},
   "outputs": [],
   "source": [
    "# Measurement noise\n",
    "noise_var = 0.25 ** 2\n",
    "\n",
    "# Bounds on the inputs variable\n",
    "bounds = BIRD_FUNCTION_BOUNDS\n",
    "hyperspaces = hs.create_hyperspaces(bounds, 2)\n",
    "parameter_set = safeopt.linearly_spaced_combinations(bounds, 1000)\n",
    "\n",
    "# Define Kernel\n",
    "kernel = GPy.kern.RBF(\n",
    "    input_dim=len(bounds),\n",
    "    variance=4.,\n",
    "    lengthscale=1.0,\n",
    "    ARD=True\n",
    ")\n",
    "\n",
    "# Initial safe set\n",
    "x0 = np.zeros((1, len(bounds)))  # safe point at zero\n",
    "# x0 = np.array([[-2.5]]) # 1D single safe point\n",
    "# x0 = np.array([[-2.5, 3.4]]) # 2D single safe point\n",
    "# x0 = np.array([[-2.5], [6.5]]) # 1D multiple safe points\n",
    "\n",
    "# noisy true function\n",
    "objective_function = bird_function\n",
    "\n",
    "\"\"\"\n",
    "IF initial safe set contains more than single point:\n",
    "    group points corresponding to hyperspace,\n",
    "    then deploy each hyperspace into a separate process.\n",
    "ELSE\n",
    "    deploy single process for whole search space\n",
    "\"\"\"\n",
    "\n",
    "# The statistical model of our objective function\n",
    "gp = GPy.models.GPRegression(\n",
    "    x0, objective_function(x0),\n",
    "    kernel, noise_var=noise_var\n",
    ")\n",
    "\n",
    "# The optimization routine\n",
    "# opt = safeopt.SafeOptSwarm(gp, -np.inf, bounds=bounds, threshold=0.2)\n",
    "opt = safeopt.SafeOpt(\n",
    "    gp,\n",
    "    parameter_set,\n",
    "    -35.,\n",
    "    lipschitz=None,\n",
    "    threshold=0.2\n",
    ")\n"
   ]
  },
  {
   "cell_type": "code",
   "execution_count": 12,
   "metadata": {},
   "outputs": [
    {
     "data": {
      "text/plain": [
       "(array([[-5.22354238e-11]]), array([[2.0025]]))"
      ]
     },
     "execution_count": 12,
     "metadata": {},
     "output_type": "execute_result"
    }
   ],
   "source": [
    "gp.predict(np.array([[-6.28318531,  3.14159265]]))\n",
    "# gp.Y"
   ]
  },
  {
   "cell_type": "code",
   "execution_count": null,
   "metadata": {},
   "outputs": [],
   "source": [
    "# x0 = np.array([[-2., 2.], [-2.5, 3.4], [0.1, -3.], [2., 4.]])\n",
    "x0 = np.array([[-2., 2.]])\n",
    "safe_hyperspaces = {}\n",
    "# if x0.shape[0] == 1:\n",
    "#     # return whole space \n",
    "#     print(x0[0], bounds)\n",
    "# else:\n",
    "# return safe points and their respective hyperspace\n",
    "for point in x0:\n",
    "    for i, hyperspace in enumerate(hyperspaces):\n",
    "        belongs_flag = True\n",
    "        for dimension, value in enumerate(point):\n",
    "            if value >= hyperspace[dimension][0] \\\n",
    "                and value <= hyperspace[dimension][1]:\n",
    "                continue\n",
    "            belongs_flag = False\n",
    "        if belongs_flag:\n",
    "            if i not in safe_hyperspaces:\n",
    "                safe_hyperspaces[i] = [point]\n",
    "            else:\n",
    "                safe_hyperspaces[i].append(point)"
   ]
  },
  {
   "cell_type": "code",
   "execution_count": null,
   "metadata": {},
   "outputs": [],
   "source": [
    "# print(list(zip(opt.x, opt.y)))\n",
    "type(opt.data[0])"
   ]
  },
  {
   "cell_type": "code",
   "execution_count": null,
   "metadata": {},
   "outputs": [],
   "source": [
    "\n",
    "evaluation_constraint = 10\n",
    "for i in range(evaluation_constraint):\n",
    "    # obtain new query point\n",
    "    x_next = opt.optimize()\n",
    "\n",
    "    \"\"\"\n",
    "    IF x_next belongs to same hyperspace:\n",
    "        continue in same process\n",
    "    ELSE\n",
    "        deploy new process with x_next as initial safe point for its \n",
    "        hyperspace\n",
    "        change search space of current process accordingly\n",
    "    \"\"\"\n",
    "\n",
    "    # Get a measurement from the real system\n",
    "    y_meas = objective_function(x_next)\n",
    "    # Add this to the GP model\n",
    "    opt.add_new_data_point(x_next, y_meas)\n",
    "\n",
    "    opt.plot(100, plot_3d=False)\n"
   ]
  }
 ],
 "metadata": {
  "interpreter": {
   "hash": "ab9e96b79e3b4065cc53b0c032b37282aa9b13cd7c24da46096651ac157e19cf"
  },
  "kernelspec": {
   "display_name": "Python 3.8.10 64-bit ('venv': venv)",
   "language": "python",
   "name": "python3"
  },
  "language_info": {
   "codemirror_mode": {
    "name": "ipython",
    "version": 3
   },
   "file_extension": ".py",
   "mimetype": "text/x-python",
   "name": "python",
   "nbconvert_exporter": "python",
   "pygments_lexer": "ipython3",
   "version": "3.8.10"
  },
  "orig_nbformat": 4
 },
 "nbformat": 4,
 "nbformat_minor": 2
}
