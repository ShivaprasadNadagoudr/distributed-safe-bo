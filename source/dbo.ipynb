{
 "cells": [
  {
   "cell_type": "code",
   "execution_count": null,
   "metadata": {},
   "outputs": [],
   "source": [
    "import GPy\n",
    "import numpy as np\n",
    "import matplotlib as mpl\n",
    "import matplotlib.pyplot as plt\n",
    "import safeopt\n",
    "from typing import List, Tuple\n",
    "\n",
    "import hyperspaces as hs\n",
    "from objective_functions import bird_function, BIRD_FUNCTION_BOUNDS, BIRD_FUNCTION_THRESHOLD\n"
   ]
  },
  {
   "cell_type": "code",
   "execution_count": null,
   "metadata": {},
   "outputs": [],
   "source": [
    "# Measurement noise\n",
    "noise_var = 0.25 ** 2\n",
    "\n",
    "# Bounds on the inputs variable\n",
    "bounds = BIRD_FUNCTION_BOUNDS\n",
    "hyperspaces = hs.create_hyperspaces(bounds, 2)\n",
    "parameter_set = safeopt.linearly_spaced_combinations(bounds, 1000)\n",
    "\n",
    "# Define Kernel\n",
    "kernel = GPy.kern.RBF(\n",
    "    input_dim=len(bounds),\n",
    "    variance=4.,\n",
    "    lengthscale=1.0,\n",
    "    ARD=True\n",
    ")\n",
    "\n",
    "# Initial safe set\n",
    "x0 = np.zeros((1, len(bounds)))  # safe point at zero\n",
    "# x0 = np.array([[-2.5]]) # 1D single safe point\n",
    "# x0 = np.array([[-2.5, 3.4]]) # 2D single safe point\n",
    "# x0 = np.array([[-2.5], [6.5]]) # 1D multiple safe points\n",
    "\n",
    "# noisy true function\n",
    "objective_function = bird_function\n",
    "\n",
    "# The statistical model of our objective function\n",
    "gp = GPy.models.GPRegression(\n",
    "    x0, objective_function(x0),\n",
    "    kernel, noise_var=noise_var\n",
    ")\n",
    "\n",
    "# The optimization routine\n",
    "# opt = safeopt.SafeOptSwarm(gp, -np.inf, bounds=bounds, threshold=0.2)\n",
    "opt = safeopt.SafeOpt(\n",
    "    gp,\n",
    "    parameter_set,\n",
    "    -35.,\n",
    "    lipschitz=None,\n",
    "    threshold=0.2\n",
    ")\n"
   ]
  }
 ],
 "metadata": {
  "interpreter": {
   "hash": "ab9e96b79e3b4065cc53b0c032b37282aa9b13cd7c24da46096651ac157e19cf"
  },
  "kernelspec": {
   "display_name": "Python 3.8.10 64-bit ('venv': venv)",
   "language": "python",
   "name": "python3"
  },
  "language_info": {
   "codemirror_mode": {
    "name": "ipython",
    "version": 3
   },
   "file_extension": ".py",
   "mimetype": "text/x-python",
   "name": "python",
   "nbconvert_exporter": "python",
   "pygments_lexer": "ipython3",
   "version": "3.8.10"
  },
  "orig_nbformat": 4
 },
 "nbformat": 4,
 "nbformat_minor": 2
}
